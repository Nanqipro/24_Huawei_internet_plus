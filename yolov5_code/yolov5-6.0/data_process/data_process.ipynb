{
 "cells": [
  {
   "cell_type": "code",
   "execution_count": 1,
   "metadata": {
    "collapsed": true,
    "ExecuteTime": {
     "start_time": "2024-07-20T10:27:08.115904Z",
     "end_time": "2024-07-20T10:27:08.384470Z"
    }
   },
   "outputs": [],
   "source": [
    "import os\n",
    "import cv2 as cv\n",
    "import json\n",
    "import pandas as pd\n",
    "\n"
   ]
  },
  {
   "cell_type": "code",
   "execution_count": null,
   "outputs": [],
   "source": [
    "img = cv.imread(\"../data/data_org/dataset/test/9_jpg.rf.eb8e232922688878a850763f2127e8fd.jpg\")"
   ],
   "metadata": {
    "collapsed": false,
    "ExecuteTime": {
     "start_time": "2024-07-20T10:08:58.309342Z",
     "end_time": "2024-07-20T10:08:58.323061Z"
    }
   }
  },
  {
   "cell_type": "code",
   "execution_count": null,
   "outputs": [],
   "source": [
    "cv.imshow(\"img\", img)\n",
    "if cv.waitKey(0) == ord('q'):\n",
    "    cv.destroyAllWindows()"
   ],
   "metadata": {
    "collapsed": false,
    "ExecuteTime": {
     "start_time": "2024-07-20T10:09:19.422588Z",
     "end_time": "2024-07-20T10:09:35.476860Z"
    }
   }
  },
  {
   "cell_type": "code",
   "execution_count": null,
   "outputs": [],
   "source": [
    "img = cv.rectangle(img, (78, 15), (559 + 78, 622 + 15), (0, 0, 255), 2)\n",
    "cv.imshow(\"img\", img)\n",
    "if cv.waitKey(0) == ord('q'):\n",
    "    cv.destroyAllWindows()"
   ],
   "metadata": {
    "collapsed": false,
    "ExecuteTime": {
     "start_time": "2024-07-20T10:09:49.316695Z",
     "end_time": "2024-07-20T10:09:53.281132Z"
    }
   }
  },
  {
   "cell_type": "markdown",
   "source": [
    "# start_testdata"
   ],
   "metadata": {
    "collapsed": false
   }
  },
  {
   "cell_type": "code",
   "execution_count": 3,
   "outputs": [],
   "source": [
    "# 图片在哪个文件夹\n",
    "img_folder = \"D:\\\\GitHub_local\\\\NCU_projects\\\\Huawei_internet_plus\\\\yolov5_code\\\\yolov5-6.0\\\\data\\dataset\\\\test\\\\images\"\n",
    "# 标签所在文件夹\n",
    "label_path = \"D:\\\\GitHub_local\\\\NCU_projects\\\\Huawei_internet_plus\\\\yolov5_code\\\\yolov5-6.0\\\\data\\\\data_org\\\\dataset\\\\test\\\\_annotations.coco.json\""
   ],
   "metadata": {
    "collapsed": false,
    "ExecuteTime": {
     "start_time": "2024-07-20T10:28:08.147089Z",
     "end_time": "2024-07-20T10:28:08.155115Z"
    }
   }
  },
  {
   "cell_type": "code",
   "execution_count": 4,
   "outputs": [],
   "source": [
    "# 图片文件名\n",
    "img_path_lst = os.listdir(img_folder)\n",
    "\n",
    "# 为每一张图片创建一个空白的txt标签\n",
    "for img_name in img_path_lst:\n",
    "    with open(os.path.join(img_folder.replace(\"images\", \"labels\"), img_name.replace(\".jpg\", \".txt\")), 'w') as f:\n",
    "        pass"
   ],
   "metadata": {
    "collapsed": false,
    "ExecuteTime": {
     "start_time": "2024-07-20T10:28:10.719349Z",
     "end_time": "2024-07-20T10:28:10.744485Z"
    }
   }
  },
  {
   "cell_type": "markdown",
   "source": [
    "# 读取_annotations.coco.json文件，开始提取需要的信息并写入"
   ],
   "metadata": {
    "collapsed": false
   }
  },
  {
   "cell_type": "code",
   "execution_count": 5,
   "outputs": [],
   "source": [
    "# 读取文件\n",
    "with open(label_path, 'r') as f:\n",
    "    content = json.load(f)\n",
    "pass"
   ],
   "metadata": {
    "collapsed": false,
    "ExecuteTime": {
     "start_time": "2024-07-20T10:28:19.943512Z",
     "end_time": "2024-07-20T10:28:19.958115Z"
    }
   }
  },
  {
   "cell_type": "code",
   "execution_count": 6,
   "outputs": [],
   "source": [
    "# 创建一个id到图片名称的映射，以字典形式存储\n",
    "dict_id2img = dict()\n",
    "for img_info in content['images']:\n",
    "    dict_id2img[img_info['id']] = img_info['file_name']\n",
    "pass"
   ],
   "metadata": {
    "collapsed": false,
    "ExecuteTime": {
     "start_time": "2024-07-20T10:28:52.639220Z",
     "end_time": "2024-07-20T10:28:52.656379Z"
    }
   }
  },
  {
   "cell_type": "code",
   "execution_count": 7,
   "outputs": [],
   "source": [
    "# 开始读取标签信息，处理后写入txt文件\n",
    "for label_info in content['annotations']:\n",
    "    img_name = dict_id2img[label_info['image_id']]\n",
    "    class_name = label_info['category_id']\n",
    "    x_center = (label_info['bbox'][0] + label_info['bbox'][2] / 2) / 640\n",
    "    y_center = (label_info['bbox'][1] + label_info['bbox'][3] / 2) / 640\n",
    "    w = label_info['bbox'][1] / 640\n",
    "    h = label_info['bbox'][3] / 640\n",
    "    with open(os.path.join(img_folder.replace(\"images\", \"labels\"), img_name.replace(\".jpg\", \".txt\")), 'a') as f:\n",
    "        f.write(\"{} {} {} {} {}\\n\".format(class_name, x_center, y_center, w, h))"
   ],
   "metadata": {
    "collapsed": false,
    "ExecuteTime": {
     "start_time": "2024-07-20T10:30:09.437679Z",
     "end_time": "2024-07-20T10:30:09.478426Z"
    }
   }
  },
  {
   "cell_type": "markdown",
   "source": [
    "# start_traindata"
   ],
   "metadata": {
    "collapsed": false
   }
  },
  {
   "cell_type": "code",
   "execution_count": 11,
   "outputs": [],
   "source": [
    "# 图片在哪个文件夹\n",
    "img_folder = \"D:\\\\GitHub_local\\\\NCU_projects\\\\Huawei_internet_plus\\\\yolov5_code\\\\yolov5-6.0\\\\data\\dataset\\\\train\\\\images\"\n",
    "# 标签所在文件夹\n",
    "label_path = \"D:\\\\GitHub_local\\\\NCU_projects\\\\Huawei_internet_plus\\\\yolov5_code\\\\yolov5-6.0\\data\\\\data_org\\dataset\\\\train\\\\_annotations.coco.json\""
   ],
   "metadata": {
    "collapsed": false,
    "ExecuteTime": {
     "start_time": "2024-07-20T10:33:46.108562Z",
     "end_time": "2024-07-20T10:33:46.124867Z"
    }
   }
  },
  {
   "cell_type": "code",
   "execution_count": 12,
   "outputs": [],
   "source": [
    "# 图片文件名\n",
    "img_path_lst = os.listdir(img_folder)\n",
    "\n",
    "# 为每一张图片创建一个空白的txt标签\n",
    "for img_name in img_path_lst:\n",
    "    with open(os.path.join(img_folder.replace(\"images\", \"labels\"), img_name.replace(\".jpg\", \".txt\")), 'w') as f:\n",
    "        pass"
   ],
   "metadata": {
    "collapsed": false,
    "ExecuteTime": {
     "start_time": "2024-07-20T10:34:04.602262Z",
     "end_time": "2024-07-20T10:34:04.718658Z"
    }
   }
  },
  {
   "cell_type": "markdown",
   "source": [
    "# 读取_annotations.coco.json文件，开始提取需要的信息并写入"
   ],
   "metadata": {
    "collapsed": false
   }
  },
  {
   "cell_type": "code",
   "execution_count": 13,
   "outputs": [],
   "source": [
    "# 读取文件\n",
    "with open(label_path, 'r') as f:\n",
    "    content = json.load(f)\n",
    "pass\n",
    "\n",
    "# 创建一个id到图片名称的映射，以字典形式存储\n",
    "dict_id2img = dict()\n",
    "for img_info in content['images']:\n",
    "    dict_id2img[img_info['id']] = img_info['file_name']\n",
    "pass\n",
    "\n",
    "# 开始读取标签信息，处理后写入txt文件\n",
    "for label_info in content['annotations']:\n",
    "    img_name = dict_id2img[label_info['image_id']]\n",
    "    class_name = label_info['category_id']\n",
    "    x_center = (label_info['bbox'][0] + label_info['bbox'][2] / 2) / 640\n",
    "    y_center = (label_info['bbox'][1] + label_info['bbox'][3] / 2) / 640\n",
    "    w = label_info['bbox'][1] / 640\n",
    "    h = label_info['bbox'][3] / 640\n",
    "    with open(os.path.join(img_folder.replace(\"images\", \"labels\"), img_name.replace(\".jpg\", \".txt\")), 'a') as f:\n",
    "        f.write(\"{} {} {} {} {}\\n\".format(class_name, x_center, y_center, w, h))"
   ],
   "metadata": {
    "collapsed": false,
    "ExecuteTime": {
     "start_time": "2024-07-20T10:35:10.637509Z",
     "end_time": "2024-07-20T10:35:10.876257Z"
    }
   }
  },
  {
   "cell_type": "markdown",
   "source": [
    "# start_valdata"
   ],
   "metadata": {
    "collapsed": false
   }
  },
  {
   "cell_type": "code",
   "execution_count": 15,
   "outputs": [],
   "source": [
    "# 图片在哪个文件夹\n",
    "img_folder = \"D:\\\\GitHub_local\\\\NCU_projects\\\\Huawei_internet_plus\\\\yolov5_code\\\\yolov5-6.0\\\\data\\dataset\\\\val\\\\images\"\n",
    "# 标签所在文件夹\n",
    "label_path = \"D:\\\\GitHub_local\\\\NCU_projects\\\\Huawei_internet_plus\\\\yolov5_code\\\\yolov5-6.0\\data\\\\data_org\\dataset\\\\valid\\\\_annotations.coco.json\"\n",
    "\n",
    "# 图片文件名\n",
    "img_path_lst = os.listdir(img_folder)\n",
    "\n",
    "# 为每一张图片创建一个空白的txt标签\n",
    "for img_name in img_path_lst:\n",
    "    with open(os.path.join(img_folder.replace(\"images\", \"labels\"), img_name.replace(\".jpg\", \".txt\")), 'w') as f:\n",
    "        pass\n",
    "\n",
    "# 读取文件\n",
    "with open(label_path, 'r') as f:\n",
    "    content = json.load(f)\n",
    "pass\n",
    "\n",
    "# 创建一个id到图片名称的映射，以字典形式存储\n",
    "dict_id2img = dict()\n",
    "for img_info in content['images']:\n",
    "    dict_id2img[img_info['id']] = img_info['file_name']\n",
    "pass\n",
    "\n",
    "# 开始读取标签信息，处理后写入txt文件\n",
    "for label_info in content['annotations']:\n",
    "    img_name = dict_id2img[label_info['image_id']]\n",
    "    class_name = label_info['category_id']\n",
    "    x_center = (label_info['bbox'][0] + label_info['bbox'][2] / 2) / 640\n",
    "    y_center = (label_info['bbox'][1] + label_info['bbox'][3] / 2) / 640\n",
    "    w = label_info['bbox'][1] / 640\n",
    "    h = label_info['bbox'][3] / 640\n",
    "    with open(os.path.join(img_folder.replace(\"images\", \"labels\"), img_name.replace(\".jpg\", \".txt\")), 'a') as f:\n",
    "        f.write(\"{} {} {} {} {}\\n\".format(class_name, x_center, y_center, w, h))"
   ],
   "metadata": {
    "collapsed": false,
    "ExecuteTime": {
     "start_time": "2024-07-20T10:41:20.722033Z",
     "end_time": "2024-07-20T10:41:20.827460Z"
    }
   }
  },
  {
   "cell_type": "code",
   "execution_count": null,
   "outputs": [],
   "source": [],
   "metadata": {
    "collapsed": false
   }
  }
 ],
 "metadata": {
  "kernelspec": {
   "display_name": "Python 3",
   "language": "python",
   "name": "python3"
  },
  "language_info": {
   "codemirror_mode": {
    "name": "ipython",
    "version": 2
   },
   "file_extension": ".py",
   "mimetype": "text/x-python",
   "name": "python",
   "nbconvert_exporter": "python",
   "pygments_lexer": "ipython2",
   "version": "2.7.6"
  }
 },
 "nbformat": 4,
 "nbformat_minor": 0
}
